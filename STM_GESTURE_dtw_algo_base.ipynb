{
  "nbformat": 4,
  "nbformat_minor": 0,
  "metadata": {
    "colab": {
      "provenance": [],
      "include_colab_link": true
    },
    "kernelspec": {
      "name": "python3",
      "display_name": "Python 3"
    },
    "language_info": {
      "name": "python"
    }
  },
  "cells": [
    {
      "cell_type": "markdown",
      "metadata": {
        "id": "view-in-github",
        "colab_type": "text"
      },
      "source": [
        "<a href=\"https://colab.research.google.com/github/kingsman-del/STM_gesture/blob/main/STM_GESTURE_dtw_algo_base.ipynb\" target=\"_parent\"><img src=\"https://colab.research.google.com/assets/colab-badge.svg\" alt=\"Open In Colab\"/></a>"
      ]
    },
    {
      "cell_type": "code",
      "execution_count": null,
      "metadata": {
        "id": "ZppZtix6hqpL"
      },
      "outputs": [],
      "source": [
        "import numpy as np\n",
        "import csv\n",
        "import pandas as pd\n"
      ]
    },
    {
      "cell_type": "code",
      "source": [
        "pip install dtw"
      ],
      "metadata": {
        "colab": {
          "base_uri": "https://localhost:8080/"
        },
        "id": "BChktit5iVDV",
        "outputId": "8128d7cb-926a-4d7a-c449-e52594292edb"
      },
      "execution_count": null,
      "outputs": [
        {
          "output_type": "stream",
          "name": "stdout",
          "text": [
            "Collecting dtw\n",
            "  Downloading dtw-1.4.0.tar.gz (4.7 kB)\n",
            "  Preparing metadata (setup.py) ... \u001b[?25l\u001b[?25hdone\n",
            "Requirement already satisfied: numpy in /usr/local/lib/python3.10/dist-packages (from dtw) (1.25.2)\n",
            "Requirement already satisfied: scipy in /usr/local/lib/python3.10/dist-packages (from dtw) (1.11.4)\n",
            "Building wheels for collected packages: dtw\n",
            "  Building wheel for dtw (setup.py) ... \u001b[?25l\u001b[?25hdone\n",
            "  Created wheel for dtw: filename=dtw-1.4.0-py3-none-any.whl size=5299 sha256=2256c184c2e8e70ca585bf186833006098d10d78c7f4ceb177706257e6135fc4\n",
            "  Stored in directory: /root/.cache/pip/wheels/71/31/62/5e67f6e31521b8cc1652aa58b1ed0c892514d01eeee85fd49c\n",
            "Successfully built dtw\n",
            "Installing collected packages: dtw\n",
            "Successfully installed dtw-1.4.0\n"
          ]
        }
      ]
    },
    {
      "cell_type": "code",
      "source": [
        "from dtw import dtw\n"
      ],
      "metadata": {
        "id": "oe6Q0-Oeib6U"
      },
      "execution_count": null,
      "outputs": []
    },
    {
      "cell_type": "code",
      "source": [
        "# Load template data from CSV files\n",
        "def load_template_from_csv(file_path):\n",
        "    with open(file_path, 'r') as file:\n",
        "        reader = csv.reader(file)\n",
        "        template_data = np.array([list(map(float, row)) for row in reader])\n",
        "    return template_data"
      ],
      "metadata": {
        "id": "xkx4EfaupEck"
      },
      "execution_count": null,
      "outputs": []
    },
    {
      "cell_type": "code",
      "source": [
        "# Load template data for zoom in and zoom out gestures from CSV files\n",
        "zoom_in_template = pd.read_csv('/content/anticlockwise.csv')\n",
        "zoom_out_template =pd.read_csv('/content/clockwise.csv')"
      ],
      "metadata": {
        "id": "j_J3LTTnifbD"
      },
      "execution_count": null,
      "outputs": []
    },
    {
      "cell_type": "code",
      "source": [
        "# Load input gesture data from CSV file\n",
        "def load_input_gesture_from_csv(file_path):\n",
        "    with open(file_path, 'r') as file:\n",
        "        reader = csv.reader(file)\n",
        "        input_gesture_data = np.array([list(map(float, row)) for row in reader])\n",
        "    return input_gesture_data"
      ],
      "metadata": {
        "id": "AmxIoL5_ifXk"
      },
      "execution_count": null,
      "outputs": []
    },
    {
      "cell_type": "code",
      "source": [
        "# input gesture file\n",
        "input_gesture = pd.read_csv('/content/clockwise.csv')"
      ],
      "metadata": {
        "id": "zkKDQX95ifU-"
      },
      "execution_count": null,
      "outputs": []
    },
    {
      "cell_type": "code",
      "source": [
        "# Load your dataset into a DataFrame (replace 'data.csv' with your dataset file)\n",
        "dfx = pd.read_csv('/content/clockwise.csv')\n",
        "\n",
        "# Check if the DataFrame is empty\n",
        "if dfx.empty:\n",
        "    print(\"DataFrame is empty\")\n",
        "else:\n",
        "    # Drop columns containing only null values\n",
        "    df_cleanedx = dfx.dropna(axis=1, how='all')\n",
        "\n",
        "    # Print the cleaned DataFrame\n",
        "    print(df_cleanedx)"
      ],
      "metadata": {
        "colab": {
          "base_uri": "https://localhost:8080/"
        },
        "id": "CPCFkwfJsPmD",
        "outputId": "5b76c02c-acae-4aa5-84de-5866716ab426"
      },
      "execution_count": null,
      "outputs": [
        {
          "output_type": "stream",
          "name": "stdout",
          "text": [
            "      time[ms]  accX[mg]  accY[mg]  accZ[mg]  gyroX[mdps]  gyroY[mdps]  \\\n",
            "0     83219390       -36      -137       998           70        -1050   \n",
            "1     83219400       -74       -51       872        -6300         2870   \n",
            "2     83219410       -83       -60       995        -2660        -1470   \n",
            "3     83219420       -83       -57      1005         5810        -3360   \n",
            "4     83219420       -84       -58      1011       -12250       -15470   \n",
            "...        ...       ...       ...       ...          ...          ...   \n",
            "1209  83230710        46       -88      1004          140           70   \n",
            "1210  83230720        47       -83      1001          630           70   \n",
            "1211  83230730        48       -74      1003          770          -70   \n",
            "1212  83230740        51       -83      1001          700         -210   \n",
            "1213  83230750        46      -101      1006          280         -630   \n",
            "\n",
            "      gyroZ[mdps]  ElapsedTime[us]  \n",
            "0            -840             1049  \n",
            "1          -10850              780  \n",
            "2           14350              782  \n",
            "3           26460              787  \n",
            "4          -51240              788  \n",
            "...           ...              ...  \n",
            "1209         -980              776  \n",
            "1210         -910              775  \n",
            "1211        -1190              776  \n",
            "1212        -2030              775  \n",
            "1213        -2240              774  \n",
            "\n",
            "[1214 rows x 8 columns]\n"
          ]
        }
      ]
    },
    {
      "cell_type": "code",
      "source": [
        "# Load your dataset into a DataFrame (replace 'data.csv' with your dataset file)\n",
        "dfy = pd.read_csv('/content/anticlockwise.csv')\n",
        "\n",
        "# Check if the DataFrame is empty\n",
        "if dfy.empty:\n",
        "    print(\"DataFrame is empty\")\n",
        "else:\n",
        "    # Drop columns containing only null values\n",
        "    df_cleanedy = dfy.dropna(axis=1, how='all')\n",
        "\n",
        "    # Print the cleaned DataFrame\n",
        "    print(df_cleanedy)"
      ],
      "metadata": {
        "colab": {
          "base_uri": "https://localhost:8080/"
        },
        "id": "tymvHSA9ze1y",
        "outputId": "8fdce1c9-30a2-425b-e9b5-fe89939a56b9"
      },
      "execution_count": null,
      "outputs": [
        {
          "output_type": "stream",
          "name": "stdout",
          "text": [
            "      time[ms]  accX[mg]  accY[mg]  accZ[mg]  gyroX[mdps]  gyroY[mdps]  \\\n",
            "0     83443850       -10        38      1008         -490         -420   \n",
            "1     83443860       -12        39      1007         -280         -280   \n",
            "2     83443870       -10        39      1007         -350         -350   \n",
            "3     83443880       -10        40      1007         -420         -420   \n",
            "4     83443890       -10        39      1007         -350         -490   \n",
            "...        ...       ...       ...       ...          ...          ...   \n",
            "1843  83461150       -35       -67       997          420        10150   \n",
            "1844  83461160       -38       -82       978          490        10780   \n",
            "1845  83461160       -35       -80       974         2450        10920   \n",
            "1846  83461170       -37       -68       975         2520        10150   \n",
            "1847  83461180       -49       -91       974         1540         8540   \n",
            "\n",
            "      gyroZ[mdps]  ElapsedTime[us]  \n",
            "0            -910              767  \n",
            "1            -910              765  \n",
            "2            -980              767  \n",
            "3            -910              771  \n",
            "4            -980              771  \n",
            "...           ...              ...  \n",
            "1843          420              776  \n",
            "1844          560              775  \n",
            "1845          490              775  \n",
            "1846          630              775  \n",
            "1847         1470              775  \n",
            "\n",
            "[1848 rows x 8 columns]\n"
          ]
        }
      ]
    },
    {
      "cell_type": "code",
      "source": [
        "df_cleanedy=df_cleanedy.drop(index=df_cleanedy.index[-634:])"
      ],
      "metadata": {
        "id": "B1NWufnL3L9A"
      },
      "execution_count": null,
      "outputs": []
    },
    {
      "cell_type": "code",
      "source": [
        "df_cleanedy"
      ],
      "metadata": {
        "id": "wedumMya3r0C",
        "outputId": "2a1d975a-e473-48cf-cdbe-1dbdede33601",
        "colab": {
          "base_uri": "https://localhost:8080/",
          "height": 424
        }
      },
      "execution_count": null,
      "outputs": [
        {
          "output_type": "execute_result",
          "data": {
            "text/plain": [
              "      time[ms]  accX[mg]  accY[mg]  accZ[mg]  gyroX[mdps]  gyroY[mdps]  \\\n",
              "0     83443850       -10        38      1008         -490         -420   \n",
              "1     83443860       -12        39      1007         -280         -280   \n",
              "2     83443870       -10        39      1007         -350         -350   \n",
              "3     83443880       -10        40      1007         -420         -420   \n",
              "4     83443890       -10        39      1007         -350         -490   \n",
              "...        ...       ...       ...       ...          ...          ...   \n",
              "1209  83455190        58        -9      1311        11690       -29120   \n",
              "1210  83455200        60       -29      1312        14280       -25200   \n",
              "1211  83455210        56       -40      1306        14350       -21560   \n",
              "1212  83455220        63       -64      1301        12250       -17850   \n",
              "1213  83455230        68       -61      1299         9590       -13720   \n",
              "\n",
              "      gyroZ[mdps]  ElapsedTime[us]  \n",
              "0            -910              767  \n",
              "1            -910              765  \n",
              "2            -980              767  \n",
              "3            -910              771  \n",
              "4            -980              771  \n",
              "...           ...              ...  \n",
              "1209       -74130              307  \n",
              "1210       -74830              306  \n",
              "1211       -75950              306  \n",
              "1212       -77350              307  \n",
              "1213       -78400              307  \n",
              "\n",
              "[1214 rows x 8 columns]"
            ],
            "text/html": [
              "\n",
              "  <div id=\"df-faaed2dd-6b49-4b61-a84b-e76795374cea\" class=\"colab-df-container\">\n",
              "    <div>\n",
              "<style scoped>\n",
              "    .dataframe tbody tr th:only-of-type {\n",
              "        vertical-align: middle;\n",
              "    }\n",
              "\n",
              "    .dataframe tbody tr th {\n",
              "        vertical-align: top;\n",
              "    }\n",
              "\n",
              "    .dataframe thead th {\n",
              "        text-align: right;\n",
              "    }\n",
              "</style>\n",
              "<table border=\"1\" class=\"dataframe\">\n",
              "  <thead>\n",
              "    <tr style=\"text-align: right;\">\n",
              "      <th></th>\n",
              "      <th>time[ms]</th>\n",
              "      <th>accX[mg]</th>\n",
              "      <th>accY[mg]</th>\n",
              "      <th>accZ[mg]</th>\n",
              "      <th>gyroX[mdps]</th>\n",
              "      <th>gyroY[mdps]</th>\n",
              "      <th>gyroZ[mdps]</th>\n",
              "      <th>ElapsedTime[us]</th>\n",
              "    </tr>\n",
              "  </thead>\n",
              "  <tbody>\n",
              "    <tr>\n",
              "      <th>0</th>\n",
              "      <td>83443850</td>\n",
              "      <td>-10</td>\n",
              "      <td>38</td>\n",
              "      <td>1008</td>\n",
              "      <td>-490</td>\n",
              "      <td>-420</td>\n",
              "      <td>-910</td>\n",
              "      <td>767</td>\n",
              "    </tr>\n",
              "    <tr>\n",
              "      <th>1</th>\n",
              "      <td>83443860</td>\n",
              "      <td>-12</td>\n",
              "      <td>39</td>\n",
              "      <td>1007</td>\n",
              "      <td>-280</td>\n",
              "      <td>-280</td>\n",
              "      <td>-910</td>\n",
              "      <td>765</td>\n",
              "    </tr>\n",
              "    <tr>\n",
              "      <th>2</th>\n",
              "      <td>83443870</td>\n",
              "      <td>-10</td>\n",
              "      <td>39</td>\n",
              "      <td>1007</td>\n",
              "      <td>-350</td>\n",
              "      <td>-350</td>\n",
              "      <td>-980</td>\n",
              "      <td>767</td>\n",
              "    </tr>\n",
              "    <tr>\n",
              "      <th>3</th>\n",
              "      <td>83443880</td>\n",
              "      <td>-10</td>\n",
              "      <td>40</td>\n",
              "      <td>1007</td>\n",
              "      <td>-420</td>\n",
              "      <td>-420</td>\n",
              "      <td>-910</td>\n",
              "      <td>771</td>\n",
              "    </tr>\n",
              "    <tr>\n",
              "      <th>4</th>\n",
              "      <td>83443890</td>\n",
              "      <td>-10</td>\n",
              "      <td>39</td>\n",
              "      <td>1007</td>\n",
              "      <td>-350</td>\n",
              "      <td>-490</td>\n",
              "      <td>-980</td>\n",
              "      <td>771</td>\n",
              "    </tr>\n",
              "    <tr>\n",
              "      <th>...</th>\n",
              "      <td>...</td>\n",
              "      <td>...</td>\n",
              "      <td>...</td>\n",
              "      <td>...</td>\n",
              "      <td>...</td>\n",
              "      <td>...</td>\n",
              "      <td>...</td>\n",
              "      <td>...</td>\n",
              "    </tr>\n",
              "    <tr>\n",
              "      <th>1209</th>\n",
              "      <td>83455190</td>\n",
              "      <td>58</td>\n",
              "      <td>-9</td>\n",
              "      <td>1311</td>\n",
              "      <td>11690</td>\n",
              "      <td>-29120</td>\n",
              "      <td>-74130</td>\n",
              "      <td>307</td>\n",
              "    </tr>\n",
              "    <tr>\n",
              "      <th>1210</th>\n",
              "      <td>83455200</td>\n",
              "      <td>60</td>\n",
              "      <td>-29</td>\n",
              "      <td>1312</td>\n",
              "      <td>14280</td>\n",
              "      <td>-25200</td>\n",
              "      <td>-74830</td>\n",
              "      <td>306</td>\n",
              "    </tr>\n",
              "    <tr>\n",
              "      <th>1211</th>\n",
              "      <td>83455210</td>\n",
              "      <td>56</td>\n",
              "      <td>-40</td>\n",
              "      <td>1306</td>\n",
              "      <td>14350</td>\n",
              "      <td>-21560</td>\n",
              "      <td>-75950</td>\n",
              "      <td>306</td>\n",
              "    </tr>\n",
              "    <tr>\n",
              "      <th>1212</th>\n",
              "      <td>83455220</td>\n",
              "      <td>63</td>\n",
              "      <td>-64</td>\n",
              "      <td>1301</td>\n",
              "      <td>12250</td>\n",
              "      <td>-17850</td>\n",
              "      <td>-77350</td>\n",
              "      <td>307</td>\n",
              "    </tr>\n",
              "    <tr>\n",
              "      <th>1213</th>\n",
              "      <td>83455230</td>\n",
              "      <td>68</td>\n",
              "      <td>-61</td>\n",
              "      <td>1299</td>\n",
              "      <td>9590</td>\n",
              "      <td>-13720</td>\n",
              "      <td>-78400</td>\n",
              "      <td>307</td>\n",
              "    </tr>\n",
              "  </tbody>\n",
              "</table>\n",
              "<p>1214 rows × 8 columns</p>\n",
              "</div>\n",
              "    <div class=\"colab-df-buttons\">\n",
              "\n",
              "  <div class=\"colab-df-container\">\n",
              "    <button class=\"colab-df-convert\" onclick=\"convertToInteractive('df-faaed2dd-6b49-4b61-a84b-e76795374cea')\"\n",
              "            title=\"Convert this dataframe to an interactive table.\"\n",
              "            style=\"display:none;\">\n",
              "\n",
              "  <svg xmlns=\"http://www.w3.org/2000/svg\" height=\"24px\" viewBox=\"0 -960 960 960\">\n",
              "    <path d=\"M120-120v-720h720v720H120Zm60-500h600v-160H180v160Zm220 220h160v-160H400v160Zm0 220h160v-160H400v160ZM180-400h160v-160H180v160Zm440 0h160v-160H620v160ZM180-180h160v-160H180v160Zm440 0h160v-160H620v160Z\"/>\n",
              "  </svg>\n",
              "    </button>\n",
              "\n",
              "  <style>\n",
              "    .colab-df-container {\n",
              "      display:flex;\n",
              "      gap: 12px;\n",
              "    }\n",
              "\n",
              "    .colab-df-convert {\n",
              "      background-color: #E8F0FE;\n",
              "      border: none;\n",
              "      border-radius: 50%;\n",
              "      cursor: pointer;\n",
              "      display: none;\n",
              "      fill: #1967D2;\n",
              "      height: 32px;\n",
              "      padding: 0 0 0 0;\n",
              "      width: 32px;\n",
              "    }\n",
              "\n",
              "    .colab-df-convert:hover {\n",
              "      background-color: #E2EBFA;\n",
              "      box-shadow: 0px 1px 2px rgba(60, 64, 67, 0.3), 0px 1px 3px 1px rgba(60, 64, 67, 0.15);\n",
              "      fill: #174EA6;\n",
              "    }\n",
              "\n",
              "    .colab-df-buttons div {\n",
              "      margin-bottom: 4px;\n",
              "    }\n",
              "\n",
              "    [theme=dark] .colab-df-convert {\n",
              "      background-color: #3B4455;\n",
              "      fill: #D2E3FC;\n",
              "    }\n",
              "\n",
              "    [theme=dark] .colab-df-convert:hover {\n",
              "      background-color: #434B5C;\n",
              "      box-shadow: 0px 1px 3px 1px rgba(0, 0, 0, 0.15);\n",
              "      filter: drop-shadow(0px 1px 2px rgba(0, 0, 0, 0.3));\n",
              "      fill: #FFFFFF;\n",
              "    }\n",
              "  </style>\n",
              "\n",
              "    <script>\n",
              "      const buttonEl =\n",
              "        document.querySelector('#df-faaed2dd-6b49-4b61-a84b-e76795374cea button.colab-df-convert');\n",
              "      buttonEl.style.display =\n",
              "        google.colab.kernel.accessAllowed ? 'block' : 'none';\n",
              "\n",
              "      async function convertToInteractive(key) {\n",
              "        const element = document.querySelector('#df-faaed2dd-6b49-4b61-a84b-e76795374cea');\n",
              "        const dataTable =\n",
              "          await google.colab.kernel.invokeFunction('convertToInteractive',\n",
              "                                                    [key], {});\n",
              "        if (!dataTable) return;\n",
              "\n",
              "        const docLinkHtml = 'Like what you see? Visit the ' +\n",
              "          '<a target=\"_blank\" href=https://colab.research.google.com/notebooks/data_table.ipynb>data table notebook</a>'\n",
              "          + ' to learn more about interactive tables.';\n",
              "        element.innerHTML = '';\n",
              "        dataTable['output_type'] = 'display_data';\n",
              "        await google.colab.output.renderOutput(dataTable, element);\n",
              "        const docLink = document.createElement('div');\n",
              "        docLink.innerHTML = docLinkHtml;\n",
              "        element.appendChild(docLink);\n",
              "      }\n",
              "    </script>\n",
              "  </div>\n",
              "\n",
              "\n",
              "<div id=\"df-493f29e7-700f-4ca7-89f9-4529c4fc97db\">\n",
              "  <button class=\"colab-df-quickchart\" onclick=\"quickchart('df-493f29e7-700f-4ca7-89f9-4529c4fc97db')\"\n",
              "            title=\"Suggest charts\"\n",
              "            style=\"display:none;\">\n",
              "\n",
              "<svg xmlns=\"http://www.w3.org/2000/svg\" height=\"24px\"viewBox=\"0 0 24 24\"\n",
              "     width=\"24px\">\n",
              "    <g>\n",
              "        <path d=\"M19 3H5c-1.1 0-2 .9-2 2v14c0 1.1.9 2 2 2h14c1.1 0 2-.9 2-2V5c0-1.1-.9-2-2-2zM9 17H7v-7h2v7zm4 0h-2V7h2v10zm4 0h-2v-4h2v4z\"/>\n",
              "    </g>\n",
              "</svg>\n",
              "  </button>\n",
              "\n",
              "<style>\n",
              "  .colab-df-quickchart {\n",
              "      --bg-color: #E8F0FE;\n",
              "      --fill-color: #1967D2;\n",
              "      --hover-bg-color: #E2EBFA;\n",
              "      --hover-fill-color: #174EA6;\n",
              "      --disabled-fill-color: #AAA;\n",
              "      --disabled-bg-color: #DDD;\n",
              "  }\n",
              "\n",
              "  [theme=dark] .colab-df-quickchart {\n",
              "      --bg-color: #3B4455;\n",
              "      --fill-color: #D2E3FC;\n",
              "      --hover-bg-color: #434B5C;\n",
              "      --hover-fill-color: #FFFFFF;\n",
              "      --disabled-bg-color: #3B4455;\n",
              "      --disabled-fill-color: #666;\n",
              "  }\n",
              "\n",
              "  .colab-df-quickchart {\n",
              "    background-color: var(--bg-color);\n",
              "    border: none;\n",
              "    border-radius: 50%;\n",
              "    cursor: pointer;\n",
              "    display: none;\n",
              "    fill: var(--fill-color);\n",
              "    height: 32px;\n",
              "    padding: 0;\n",
              "    width: 32px;\n",
              "  }\n",
              "\n",
              "  .colab-df-quickchart:hover {\n",
              "    background-color: var(--hover-bg-color);\n",
              "    box-shadow: 0 1px 2px rgba(60, 64, 67, 0.3), 0 1px 3px 1px rgba(60, 64, 67, 0.15);\n",
              "    fill: var(--button-hover-fill-color);\n",
              "  }\n",
              "\n",
              "  .colab-df-quickchart-complete:disabled,\n",
              "  .colab-df-quickchart-complete:disabled:hover {\n",
              "    background-color: var(--disabled-bg-color);\n",
              "    fill: var(--disabled-fill-color);\n",
              "    box-shadow: none;\n",
              "  }\n",
              "\n",
              "  .colab-df-spinner {\n",
              "    border: 2px solid var(--fill-color);\n",
              "    border-color: transparent;\n",
              "    border-bottom-color: var(--fill-color);\n",
              "    animation:\n",
              "      spin 1s steps(1) infinite;\n",
              "  }\n",
              "\n",
              "  @keyframes spin {\n",
              "    0% {\n",
              "      border-color: transparent;\n",
              "      border-bottom-color: var(--fill-color);\n",
              "      border-left-color: var(--fill-color);\n",
              "    }\n",
              "    20% {\n",
              "      border-color: transparent;\n",
              "      border-left-color: var(--fill-color);\n",
              "      border-top-color: var(--fill-color);\n",
              "    }\n",
              "    30% {\n",
              "      border-color: transparent;\n",
              "      border-left-color: var(--fill-color);\n",
              "      border-top-color: var(--fill-color);\n",
              "      border-right-color: var(--fill-color);\n",
              "    }\n",
              "    40% {\n",
              "      border-color: transparent;\n",
              "      border-right-color: var(--fill-color);\n",
              "      border-top-color: var(--fill-color);\n",
              "    }\n",
              "    60% {\n",
              "      border-color: transparent;\n",
              "      border-right-color: var(--fill-color);\n",
              "    }\n",
              "    80% {\n",
              "      border-color: transparent;\n",
              "      border-right-color: var(--fill-color);\n",
              "      border-bottom-color: var(--fill-color);\n",
              "    }\n",
              "    90% {\n",
              "      border-color: transparent;\n",
              "      border-bottom-color: var(--fill-color);\n",
              "    }\n",
              "  }\n",
              "</style>\n",
              "\n",
              "  <script>\n",
              "    async function quickchart(key) {\n",
              "      const quickchartButtonEl =\n",
              "        document.querySelector('#' + key + ' button');\n",
              "      quickchartButtonEl.disabled = true;  // To prevent multiple clicks.\n",
              "      quickchartButtonEl.classList.add('colab-df-spinner');\n",
              "      try {\n",
              "        const charts = await google.colab.kernel.invokeFunction(\n",
              "            'suggestCharts', [key], {});\n",
              "      } catch (error) {\n",
              "        console.error('Error during call to suggestCharts:', error);\n",
              "      }\n",
              "      quickchartButtonEl.classList.remove('colab-df-spinner');\n",
              "      quickchartButtonEl.classList.add('colab-df-quickchart-complete');\n",
              "    }\n",
              "    (() => {\n",
              "      let quickchartButtonEl =\n",
              "        document.querySelector('#df-493f29e7-700f-4ca7-89f9-4529c4fc97db button');\n",
              "      quickchartButtonEl.style.display =\n",
              "        google.colab.kernel.accessAllowed ? 'block' : 'none';\n",
              "    })();\n",
              "  </script>\n",
              "</div>\n",
              "\n",
              "  <div id=\"id_e1685c0d-3f2a-49d4-84c2-acf2a14f39b9\">\n",
              "    <style>\n",
              "      .colab-df-generate {\n",
              "        background-color: #E8F0FE;\n",
              "        border: none;\n",
              "        border-radius: 50%;\n",
              "        cursor: pointer;\n",
              "        display: none;\n",
              "        fill: #1967D2;\n",
              "        height: 32px;\n",
              "        padding: 0 0 0 0;\n",
              "        width: 32px;\n",
              "      }\n",
              "\n",
              "      .colab-df-generate:hover {\n",
              "        background-color: #E2EBFA;\n",
              "        box-shadow: 0px 1px 2px rgba(60, 64, 67, 0.3), 0px 1px 3px 1px rgba(60, 64, 67, 0.15);\n",
              "        fill: #174EA6;\n",
              "      }\n",
              "\n",
              "      [theme=dark] .colab-df-generate {\n",
              "        background-color: #3B4455;\n",
              "        fill: #D2E3FC;\n",
              "      }\n",
              "\n",
              "      [theme=dark] .colab-df-generate:hover {\n",
              "        background-color: #434B5C;\n",
              "        box-shadow: 0px 1px 3px 1px rgba(0, 0, 0, 0.15);\n",
              "        filter: drop-shadow(0px 1px 2px rgba(0, 0, 0, 0.3));\n",
              "        fill: #FFFFFF;\n",
              "      }\n",
              "    </style>\n",
              "    <button class=\"colab-df-generate\" onclick=\"generateWithVariable('df_cleanedy')\"\n",
              "            title=\"Generate code using this dataframe.\"\n",
              "            style=\"display:none;\">\n",
              "\n",
              "  <svg xmlns=\"http://www.w3.org/2000/svg\" height=\"24px\"viewBox=\"0 0 24 24\"\n",
              "       width=\"24px\">\n",
              "    <path d=\"M7,19H8.4L18.45,9,17,7.55,7,17.6ZM5,21V16.75L18.45,3.32a2,2,0,0,1,2.83,0l1.4,1.43a1.91,1.91,0,0,1,.58,1.4,1.91,1.91,0,0,1-.58,1.4L9.25,21ZM18.45,9,17,7.55Zm-12,3A5.31,5.31,0,0,0,4.9,8.1,5.31,5.31,0,0,0,1,6.5,5.31,5.31,0,0,0,4.9,4.9,5.31,5.31,0,0,0,6.5,1,5.31,5.31,0,0,0,8.1,4.9,5.31,5.31,0,0,0,12,6.5,5.46,5.46,0,0,0,6.5,12Z\"/>\n",
              "  </svg>\n",
              "    </button>\n",
              "    <script>\n",
              "      (() => {\n",
              "      const buttonEl =\n",
              "        document.querySelector('#id_e1685c0d-3f2a-49d4-84c2-acf2a14f39b9 button.colab-df-generate');\n",
              "      buttonEl.style.display =\n",
              "        google.colab.kernel.accessAllowed ? 'block' : 'none';\n",
              "\n",
              "      buttonEl.onclick = () => {\n",
              "        google.colab.notebook.generateWithVariable('df_cleanedy');\n",
              "      }\n",
              "      })();\n",
              "    </script>\n",
              "  </div>\n",
              "\n",
              "    </div>\n",
              "  </div>\n"
            ],
            "application/vnd.google.colaboratory.intrinsic+json": {
              "type": "dataframe",
              "variable_name": "df_cleanedy",
              "summary": "{\n  \"name\": \"df_cleanedy\",\n  \"rows\": 1214,\n  \"fields\": [\n    {\n      \"column\": \"time[ms]\",\n      \"properties\": {\n        \"dtype\": \"number\",\n        \"std\": 3289,\n        \"min\": 83443850,\n        \"max\": 83455230,\n        \"num_unique_values\": 1055,\n        \"samples\": [\n          83446640,\n          83452820,\n          83452980\n        ],\n        \"semantic_type\": \"\",\n        \"description\": \"\"\n      }\n    },\n    {\n      \"column\": \"accX[mg]\",\n      \"properties\": {\n        \"dtype\": \"number\",\n        \"std\": 101,\n        \"min\": -346,\n        \"max\": 97,\n        \"num_unique_values\": 357,\n        \"samples\": [\n          -217,\n          -37,\n          -3\n        ],\n        \"semantic_type\": \"\",\n        \"description\": \"\"\n      }\n    },\n    {\n      \"column\": \"accY[mg]\",\n      \"properties\": {\n        \"dtype\": \"number\",\n        \"std\": 122,\n        \"min\": -484,\n        \"max\": 161,\n        \"num_unique_values\": 401,\n        \"samples\": [\n          -293,\n          -334,\n          7\n        ],\n        \"semantic_type\": \"\",\n        \"description\": \"\"\n      }\n    },\n    {\n      \"column\": \"accZ[mg]\",\n      \"properties\": {\n        \"dtype\": \"number\",\n        \"std\": 135,\n        \"min\": 534,\n        \"max\": 1312,\n        \"num_unique_values\": 454,\n        \"samples\": [\n          752,\n          867,\n          1219\n        ],\n        \"semantic_type\": \"\",\n        \"description\": \"\"\n      }\n    },\n    {\n      \"column\": \"gyroX[mdps]\",\n      \"properties\": {\n        \"dtype\": \"number\",\n        \"std\": 12023,\n        \"min\": -35210,\n        \"max\": 36890,\n        \"num_unique_values\": 527,\n        \"samples\": [\n          22120,\n          10990,\n          -70\n        ],\n        \"semantic_type\": \"\",\n        \"description\": \"\"\n      }\n    },\n    {\n      \"column\": \"gyroY[mdps]\",\n      \"properties\": {\n        \"dtype\": \"number\",\n        \"std\": 30064,\n        \"min\": -80500,\n        \"max\": 73780,\n        \"num_unique_values\": 718,\n        \"samples\": [\n          980,\n          -51870,\n          5670\n        ],\n        \"semantic_type\": \"\",\n        \"description\": \"\"\n      }\n    },\n    {\n      \"column\": \"gyroZ[mdps]\",\n      \"properties\": {\n        \"dtype\": \"number\",\n        \"std\": 28393,\n        \"min\": -78400,\n        \"max\": 58800,\n        \"num_unique_values\": 673,\n        \"samples\": [\n          -72380,\n          -27720,\n          -12950\n        ],\n        \"semantic_type\": \"\",\n        \"description\": \"\"\n      }\n    },\n    {\n      \"column\": \"ElapsedTime[us]\",\n      \"properties\": {\n        \"dtype\": \"number\",\n        \"std\": 256,\n        \"min\": 299,\n        \"max\": 1122,\n        \"num_unique_values\": 34,\n        \"samples\": [\n          779,\n          309,\n          303\n        ],\n        \"semantic_type\": \"\",\n        \"description\": \"\"\n      }\n    }\n  ]\n}"
            }
          },
          "metadata": {},
          "execution_count": 24
        }
      ]
    },
    {
      "cell_type": "code",
      "source": [
        "input_gesture=df_cleanedx"
      ],
      "metadata": {
        "id": "ckuv0tXO5BeX"
      },
      "execution_count": null,
      "outputs": []
    },
    {
      "cell_type": "code",
      "source": [
        "import numpy as np\n",
        "\n",
        "def euclidean(x, y):\n",
        "    \"\"\"\n",
        "    Calculates the Euclidean distance between two vectors.\n",
        "\n",
        "    Args:\n",
        "        x: A numpy array representing the first vector.\n",
        "        y: A numpy array representing the second vector.\n",
        "\n",
        "    Returns:\n",
        "        The Euclidean distance between the two vectors.\n",
        "    \"\"\"\n",
        "    return np.sqrt(np.sum((x - y)**2))\n",
        "\n",
        "def my_dist(x, y):\n",
        "    \"\"\"\n",
        "    Returns the Euclidean distance between two vectors using the euclidean function.\n",
        "\n",
        "    Args:\n",
        "        x: A numpy array representing the first vector.\n",
        "        y: A numpy array representing the second vector.\n",
        "\n",
        "    Returns:\n",
        "        The Euclidean distance between the two vectors.\n",
        "    \"\"\"\n",
        "    return euclidean(x, y)"
      ],
      "metadata": {
        "id": "K5xAoVqc4ZTi"
      },
      "execution_count": null,
      "outputs": []
    },
    {
      "cell_type": "code",
      "source": [
        "# Define the distance function (Euclidean distance)\n",
        "def my_dist(x, y):\n",
        "    return euclidean(x,y)"
      ],
      "metadata": {
        "id": "s_7e2aDAsPes"
      },
      "execution_count": null,
      "outputs": []
    },
    {
      "cell_type": "code",
      "source": [
        "zoom_in_template=df_cleanedx"
      ],
      "metadata": {
        "id": "_mJe_9de5RPv"
      },
      "execution_count": null,
      "outputs": []
    },
    {
      "cell_type": "code",
      "source": [
        "zoom_in_template=zoom_in_template.values"
      ],
      "metadata": {
        "id": "-L-w7TmQ5ldx"
      },
      "execution_count": null,
      "outputs": []
    },
    {
      "cell_type": "code",
      "source": [
        "input_gesture=input_gesture.values"
      ],
      "metadata": {
        "id": "yZTdXzPI5hhX"
      },
      "execution_count": null,
      "outputs": []
    },
    {
      "cell_type": "code",
      "source": [
        "# Calculate DTW distance between input gesture and zoom in template\n",
        "distance, path, accumulated_distance, smoothed_path = dtw(zoom_in_template, input_gesture,dist=my_dist)"
      ],
      "metadata": {
        "id": "q0pjuIzfifSm"
      },
      "execution_count": null,
      "outputs": []
    },
    {
      "cell_type": "code",
      "source": [
        "# Print the results\n",
        "print(\"DTW distance:\", distance)\n",
        "print(\"Optimal warping path:\", path)\n",
        "print(\"Accumulated distance:\", accumulated_distance)\n",
        "print(\"Smoothed warping path:\", smoothed_path)"
      ],
      "metadata": {
        "id": "eUq_ae9n61Bc",
        "outputId": "f6f5757d-2843-41f4-a104-c73164800141",
        "colab": {
          "base_uri": "https://localhost:8080/"
        }
      },
      "execution_count": null,
      "outputs": [
        {
          "output_type": "stream",
          "name": "stdout",
          "text": [
            "DTW distance: 0.0\n",
            "Optimal warping path: [[    0.         12499.62307432 15441.67205972 ... 11412.89091335\n",
            "  11464.14715537 11459.22375207]\n",
            " [12499.62307432     0.         25829.06492694 ... 16743.52382266\n",
            "  16275.98583804 16079.05134018]\n",
            " [15441.67205972 25829.06492694     0.         ... 19579.99890194\n",
            "  20237.8128759  20327.11014876]\n",
            " ...\n",
            " [11412.89091335 16743.52382266 19579.99890194 ...     0.\n",
            "    854.57299279  1287.37950893]\n",
            " [11464.14715537 16275.98583804 20237.8128759  ...   854.57299279\n",
            "      0.           630.3768714 ]\n",
            " [11459.22375207 16079.05134018 20327.11014876 ...  1287.37950893\n",
            "    630.3768714      0.        ]]\n",
            "Accumulated distance: [[0.00000000e+00 1.24996231e+04 2.79412951e+04 ... 2.93975872e+07\n",
            "  2.94090513e+07 2.94205106e+07]\n",
            " [1.24996231e+04 0.00000000e+00 2.58290649e+04 ... 2.94029178e+07\n",
            "  2.94138632e+07 2.94251304e+07]\n",
            " [2.79412951e+04 2.58290649e+04 0.00000000e+00 ... 2.94111693e+07\n",
            "  2.94231556e+07 2.94341903e+07]\n",
            " ...\n",
            " [2.93975872e+07 2.94029178e+07 2.94111693e+07 ... 0.00000000e+00\n",
            "  8.54572993e+02 2.14195250e+03]\n",
            " [2.94090513e+07 2.94138632e+07 2.94231556e+07 ... 8.54572993e+02\n",
            "  0.00000000e+00 6.30376871e+02]\n",
            " [2.94205106e+07 2.94251304e+07 2.94341903e+07 ... 2.14195250e+03\n",
            "  6.30376871e+02 0.00000000e+00]]\n",
            "Smoothed warping path: (array([   0,    1,    2, ..., 1211, 1212, 1213]), array([   0,    1,    2, ..., 1211, 1212, 1213]))\n"
          ]
        }
      ]
    },
    {
      "cell_type": "code",
      "source": [
        "df = pd.read_csv('/content/clockwise.csv')"
      ],
      "metadata": {
        "id": "jP3OFvTjifQI"
      },
      "execution_count": null,
      "outputs": []
    }
  ]
}